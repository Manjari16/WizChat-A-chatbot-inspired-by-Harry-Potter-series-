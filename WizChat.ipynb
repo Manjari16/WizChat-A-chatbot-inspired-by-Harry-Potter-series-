{
 "cells": [
  {
   "cell_type": "code",
   "execution_count": null,
   "id": "70c877db",
   "metadata": {},
   "outputs": [],
   "source": [
    "#installing libraries\n",
    "!pip install langchain\n",
    "!pip install huggingface_hub\n",
    "!pip install sentence_transformers"
   ]
  },
  {
   "cell_type": "code",
   "execution_count": null,
   "id": "2b08c965",
   "metadata": {},
   "outputs": [],
   "source": [
    "#getting csv file\n",
    "import pandas as pd\n",
    "df= pd.read_csv('ProcessedDataForChatBot.csv')"
   ]
  },
  {
   "cell_type": "code",
   "execution_count": null,
   "id": "7ec50357",
   "metadata": {},
   "outputs": [],
   "source": [
    "df.head()"
   ]
  },
  {
   "cell_type": "code",
   "execution_count": null,
   "id": "dcaf0330",
   "metadata": {},
   "outputs": [],
   "source": [
    "import os\n",
    "os.environ[\"HUGGINGFACEHUB_API_TOKEN\"] = \"Your API HuggingFace Token\""
   ]
  },
  {
   "cell_type": "code",
   "execution_count": null,
   "id": "414b719f",
   "metadata": {},
   "outputs": [],
   "source": [
    "#splitting text for each character\n",
    "from langchain.text_splitter import RecursiveCharacterTextSplitter\n",
    "splitted_info=[]\n",
    "for text in df['info']: \n",
    "  splitter = RecursiveCharacterTextSplitter(chunk_size=1000, chunk_overlap=0,)\n",
    "  output = splitter.split_text(text)\n",
    "  splitted_info.append(output)"
   ]
  },
  {
   "cell_type": "code",
   "execution_count": null,
   "id": "26bfdd3a",
   "metadata": {},
   "outputs": [],
   "source": [
    "# Embeddings\n",
    "from langchain.embeddings import HuggingFaceEmbeddings\n",
    "embeddings = HuggingFaceEmbeddings()"
   ]
  },
  {
   "cell_type": "code",
   "execution_count": null,
   "id": "d6379711",
   "metadata": {},
   "outputs": [],
   "source": [
    "!pip install faiss-cpu"
   ]
  },
  {
   "cell_type": "code",
   "execution_count": null,
   "id": "4e3d9e55",
   "metadata": {},
   "outputs": [],
   "source": [
    "from langchain.chains.question_answering import load_qa_chain\n",
    "from langchain import HuggingFaceHub"
   ]
  },
  {
   "cell_type": "code",
   "execution_count": null,
   "id": "ec7395fb",
   "metadata": {},
   "outputs": [],
   "source": [
    "llm=HuggingFaceHub(repo_id=\"google/flan-t5-large\", model_kwargs={\"temperature\":0.6, \"max_length\":5000})"
   ]
  },
  {
   "cell_type": "code",
   "execution_count": null,
   "id": "1efe12fb",
   "metadata": {},
   "outputs": [],
   "source": [
    "chain = load_qa_chain(llm, chain_type=\"stuff\")"
   ]
  },
  {
   "cell_type": "code",
   "execution_count": null,
   "id": "9a342753",
   "metadata": {},
   "outputs": [],
   "source": [
    "#Embeddings splitted texts\n",
    "from langchain.vectorstores import FAISS \n",
    "\n",
    "db=[]\n",
    "for text in splitted_info:\n",
    "  output = FAISS.from_texts(text, embeddings)\n",
    "  db.append(output)"
   ]
  },
  {
   "cell_type": "code",
   "execution_count": null,
   "id": "5dc1c132",
   "metadata": {},
   "outputs": [],
   "source": [
    "new_list = splitted_info[349:]\n",
    "for text in new_list:\n",
    "  output = FAISS.from_texts(text, embeddings)\n",
    "  db.append(output)"
   ]
  },
  {
   "cell_type": "code",
   "execution_count": null,
   "id": "de024165",
   "metadata": {},
   "outputs": [],
   "source": [
    "print(len(db))"
   ]
  },
  {
   "cell_type": "code",
   "execution_count": null,
   "id": "d64789e7",
   "metadata": {},
   "outputs": [],
   "source": [
    "#saving embeddings as csv because it took hours for above block to execute\n",
    "#you can skip the above block and directly import Embeddings.csv to run the cell below\n",
    "Embeddings= pd.DataFrame(db)\n",
    "Embeddings.to_csv(r'C:\\Users\\my\\Desktop\\ChatsOfWesteros\\Embeddings.csv', index=False, header=False)"
   ]
  },
  {
   "cell_type": "code",
   "execution_count": 46,
   "id": "870339c6",
   "metadata": {},
   "outputs": [],
   "source": [
    "#finding answer from splitted text info of particular character\n",
    "def answer(index, user_input):\n",
    "  query = user_input\n",
    "  database= Embeddings[0][index]\n",
    "  #doing similarity search with present chunks\n",
    "  docs = database.similarity_search(query)\n",
    "  return chain.run(input_documents=docs, question=query)"
   ]
  },
  {
   "cell_type": "code",
   "execution_count": 47,
   "id": "9db45a61",
   "metadata": {},
   "outputs": [
    {
     "data": {
      "text/plain": [
       "'a wizard and Gryffindor student at Hogwarts School of Witchcraft and Wizardry'"
      ]
     },
     "execution_count": 47,
     "metadata": {},
     "output_type": "execute_result"
    }
   ],
   "source": [
    "#Example\n",
    "answer(0, \"who is euan?\")"
   ]
  },
  {
   "cell_type": "code",
   "execution_count": 48,
   "id": "3d8d054e",
   "metadata": {},
   "outputs": [],
   "source": [
    "def chatbot_response(user_input):\n",
    "    #first searching by full names\n",
    "    for index, row in df.iterrows():\n",
    "        character_name = row['character'].lower()\n",
    "        if character_name in user_input.lower():\n",
    "            res= answer(index, user_input)\n",
    "            if res.lower() == 'not enough information':\n",
    "                return \"Apologies, my knowledge can only go so far...\"\n",
    "            else:\n",
    "                return res\n",
    "    #if character not found then search by first or last name\n",
    "    for index, row in df.iterrows():\n",
    "        character_name = row['character'].lower()   \n",
    "        if character_name.split()[0] in user_input.lower() or character_name.split()[-1] in user_input.lower():\n",
    "            res= answer(index, user_input)\n",
    "            if res.lower() == 'not enough information':\n",
    "                return \"Apologies, my knowledge can only go so far...\"\n",
    "            else:\n",
    "                return res\n",
    "    return \"Apologies, my knowledge can only go so far...\"\n",
    "    "
   ]
  },
  {
   "cell_type": "code",
   "execution_count": 49,
   "id": "4b1b71db",
   "metadata": {},
   "outputs": [
    {
     "name": "stdout",
     "output_type": "stream",
     "text": [
      "WizChat: Greetings wizard, whose secrets do you want to know?\n",
      "You: Where was Severus born?\n",
      "WizChat: Spinner's End\n",
      "You: What is Severus Snape's house?\n",
      "WizChat: Spinner's End\n",
      "You: Which house Severus Snape belongs to?\n",
      "WizChat: Slytherin\n",
      "You: When was Snape born?\n",
      "WizChat: 9 January 1960\n",
      "You: who Snape loved?\n",
      "WizChat: Lily\n",
      "You: Who is Harry Potter's father?\n",
      "WizChat: James Potter\n",
      "You: Where Harry Potter was born?\n",
      "WizChat: Godric's Hollow\n",
      "You: when was Harry Potter born?\n",
      "WizChat: 31 July 1980\n",
      "You: Who was Dumbledore's lover?\n",
      "WizChat: Gellert Grindelwald\n",
      "You: What is name of Harry Potter's son?\n",
      "WizChat: Albus\n",
      "You: Describe Porpington\n",
      "WizChat: made sneaking out of the castle and avoiding teachers much easier\n",
      "You: Where Severus died?\n",
      "WizChat: Shrieking Shack\n",
      "You: When Tom Riddle met Dumbledore?\n",
      "WizChat: eleven\n",
      "You: exit\n",
      "WizChat: Goodbye!\n"
     ]
    }
   ],
   "source": [
    "#ChatBot\n",
    "#type 'exit' to exit chatbot\n",
    "#type your question referring to character\n",
    "\n",
    "def chat():\n",
    "    print(\"WizChat: Greetings wizard, whose secrets do you want to know?\")\n",
    "    while True:\n",
    "        user_input = input(\"You: \")\n",
    "        if user_input.lower() == \"exit\":\n",
    "            print(\"WizChat: Goodbye!\")\n",
    "            break\n",
    "        response = chatbot_response(user_input)\n",
    "        print(\"WizChat:\", response)\n",
    "\n",
    "# Start the chatbot\n",
    "if __name__ == \"__main__\":\n",
    "    chat()"
   ]
  },
  {
   "cell_type": "code",
   "execution_count": null,
   "id": "013b1670",
   "metadata": {},
   "outputs": [],
   "source": []
  }
 ],
 "metadata": {
  "kernelspec": {
   "display_name": "Python 3 (ipykernel)",
   "language": "python",
   "name": "python3"
  },
  "language_info": {
   "codemirror_mode": {
    "name": "ipython",
    "version": 3
   },
   "file_extension": ".py",
   "mimetype": "text/x-python",
   "name": "python",
   "nbconvert_exporter": "python",
   "pygments_lexer": "ipython3",
   "version": "3.9.12"
  }
 },
 "nbformat": 4,
 "nbformat_minor": 5
}
