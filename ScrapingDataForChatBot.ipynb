{
 "cells": [
  {
   "cell_type": "code",
   "execution_count": null,
   "id": "38e29e72",
   "metadata": {},
   "outputs": [],
   "source": [
    "!pip install pandas"
   ]
  },
  {
   "cell_type": "code",
   "execution_count": null,
   "id": "1082350c",
   "metadata": {},
   "outputs": [],
   "source": [
    "!pip install matplotlib selenium webdriver_manager"
   ]
  },
  {
   "cell_type": "code",
   "execution_count": null,
   "id": "ab0034cd",
   "metadata": {},
   "outputs": [],
   "source": [
    "import pandas as pd\n",
    "import time\n",
    "from selenium import webdriver\n",
    "from webdriver_manager.chrome import ChromeDriverManager"
   ]
  },
  {
   "cell_type": "code",
   "execution_count": null,
   "id": "4cae5c5d",
   "metadata": {},
   "outputs": [],
   "source": [
    "from selenium.webdriver.common.by import By\n",
    "from selenium.webdriver.support.ui import WebDriverWait, Select\n",
    "from selenium.webdriver.support import expected_conditions as EC\n",
    "from selenium.common.exceptions import TimeoutException, NoSuchElementException\n",
    "from selenium.webdriver.chrome.options import Options\n",
    "import os\n",
    "import logging\n",
    "from selenium.webdriver.chrome.service import Service"
   ]
  },
  {
   "cell_type": "code",
   "execution_count": null,
   "id": "091e8182",
   "metadata": {},
   "outputs": [],
   "source": [
    "## Setup chrome options\n",
    "chrome_options = Options()\n",
    "chrome_options.add_argument(\"--headless\") # Ensure GUI is off\n",
    "chrome_options.add_argument(\"--no-sandbox\")\n",
    "\n",
    "# Silent download of drivers\n",
    "logging.getLogger('WDM').setLevel(logging.NOTSET)\n",
    "os.environ['WDM_LOG'] = 'False'\n",
    "\n",
    "# Create service\n",
    "webdriver_service = Service(ChromeDriverManager().install())\n",
    "\n",
    "# Create driver\n",
    "driver = webdriver.Chrome(service = webdriver_service, options = chrome_options)\n"
   ]
  },
  {
   "cell_type": "code",
   "execution_count": null,
   "id": "d7d08ffe",
   "metadata": {},
   "outputs": [],
   "source": [
    "#Getting started with Harry Potter's Character Scraping\n",
    "\n",
    "url= \"https://harrypotter.fandom.com/wiki/Category:Individuals_by_Hogwarts_house\"\n",
    "driver.get(url)\n",
    "\n",
    "# Find Hogwarts Houses\n",
    "Houses = driver.find_elements(by=By.CLASS_NAME, value='category-page__member-link')\n",
    "\n",
    "HogwartsHouses = []\n",
    "for house in Houses:\n",
    "    house_url = house.get_attribute('href')\n",
    "    house_name = house.text\n",
    "    HogwartsHouses.append({'house_name': house_name, 'url': house_url})"
   ]
  },
  {
   "cell_type": "code",
   "execution_count": null,
   "id": "8787daf5",
   "metadata": {},
   "outputs": [],
   "source": [
    "HogwartsHouses\n"
   ]
  },
  {
   "cell_type": "code",
   "execution_count": null,
   "id": "af97e1e0",
   "metadata": {},
   "outputs": [],
   "source": [
    "#Find characters in all houses\n",
    "\n",
    "character_list = []\n",
    "\n",
    "for house in HogwartsHouses:\n",
    "    # go to house page\n",
    "    driver.get(house['url'])\n",
    "    \n",
    "    character_elems = driver.find_elements(by=By.CLASS_NAME, value = 'category-page__member-link')\n",
    "    \n",
    "    for elem in character_elems:\n",
    "        character_list.append({'house': house['house_name'],'character': elem.text, 'url': elem.get_attribute('href')})"
   ]
  },
  {
   "cell_type": "code",
   "execution_count": null,
   "id": "2b3546c9",
   "metadata": {},
   "outputs": [],
   "source": [
    "len(character_list)"
   ]
  },
  {
   "cell_type": "code",
   "execution_count": null,
   "id": "8e477696",
   "metadata": {},
   "outputs": [],
   "source": [
    "#finding information of characters for chatbox\n",
    "#This cell will take time about 1-1:30 hrs\n",
    "ChatboxInfo=[]\n",
    "\n",
    "for character in character_list:\n",
    "    # go to character page\n",
    "    driver.get(character['url'])\n",
    "    character_info= driver.find_element(by=By.CLASS_NAME, value = 'mw-parser-output')\n",
    "    ChatboxInfo.append({'house': character['house'],'character': character['character'], 'info': character_info.text})\n",
    "    "
   ]
  },
  {
   "cell_type": "code",
   "execution_count": null,
   "id": "13acc065",
   "metadata": {},
   "outputs": [],
   "source": [
    "#Converting List into dataframe \n",
    "ChatBoxInfo_df = pd.DataFrame(ChatboxInfo)"
   ]
  },
  {
   "cell_type": "code",
   "execution_count": null,
   "id": "7283def5",
   "metadata": {},
   "outputs": [],
   "source": [
    "#Saving CSV \n",
    "ChatBoxInfo_df.to_csv(r'C:\\Users\\my\\Desktop\\ChatsOfWesteros\\ChatBoxInfo_df.csv')"
   ]
  },
  {
   "cell_type": "code",
   "execution_count": null,
   "id": "9d91c972",
   "metadata": {},
   "outputs": [],
   "source": [
    "ChatBoxInfo_df.head(10)"
   ]
  },
  {
   "cell_type": "code",
   "execution_count": null,
   "id": "027f366d",
   "metadata": {},
   "outputs": [],
   "source": []
  },
  {
   "cell_type": "code",
   "execution_count": null,
   "id": "e09cdc00",
   "metadata": {},
   "outputs": [],
   "source": []
  }
 ],
 "metadata": {
  "kernelspec": {
   "display_name": "Python 3 (ipykernel)",
   "language": "python",
   "name": "python3"
  },
  "language_info": {
   "codemirror_mode": {
    "name": "ipython",
    "version": 3
   },
   "file_extension": ".py",
   "mimetype": "text/x-python",
   "name": "python",
   "nbconvert_exporter": "python",
   "pygments_lexer": "ipython3",
   "version": "3.9.12"
  }
 },
 "nbformat": 4,
 "nbformat_minor": 5
}
