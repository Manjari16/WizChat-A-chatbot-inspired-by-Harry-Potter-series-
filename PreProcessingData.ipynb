{
 "cells": [
  {
   "cell_type": "code",
   "execution_count": 1,
   "id": "18f51cce",
   "metadata": {},
   "outputs": [],
   "source": [
    "#importing deps\n",
    "import pandas as pd\n",
    "import re"
   ]
  },
  {
   "cell_type": "code",
   "execution_count": 2,
   "id": "ce48e25f",
   "metadata": {},
   "outputs": [],
   "source": [
    "df= pd.read_csv('ChatBoxInfo_df.csv')"
   ]
  },
  {
   "cell_type": "code",
   "execution_count": 3,
   "id": "1a855bda",
   "metadata": {},
   "outputs": [],
   "source": [
    "df.drop(columns=['Unnamed: 0'], inplace=True)"
   ]
  },
  {
   "cell_type": "code",
   "execution_count": 4,
   "id": "598afdf0",
   "metadata": {},
   "outputs": [],
   "source": [
    "#Removing Category from house column\n",
    "df['house'] = df['house'].str.replace('Category:', '')"
   ]
  },
  {
   "cell_type": "code",
   "execution_count": 5,
   "id": "1ba52f24",
   "metadata": {},
   "outputs": [],
   "source": [
    "#Removing 's' as last character from house name \n",
    "df['house'] = df['house'].str.rstrip('s')\n",
    "df['house'] = df['house'].str.rstrip(' House')"
   ]
  },
  {
   "cell_type": "code",
   "execution_count": 6,
   "id": "efafba8b",
   "metadata": {},
   "outputs": [],
   "source": [
    "#Now cleaning on info column\n",
    "df1= df.copy()\n",
    "df1['info'] = df1['info'].str.replace(r'\\[.*?\\]', '', regex=True)"
   ]
  },
  {
   "cell_type": "code",
   "execution_count": 7,
   "id": "b422d719",
   "metadata": {},
   "outputs": [],
   "source": [
    "df1['character'] = df1['character'].str.lower()\n",
    "df1['house'] = df1['house'].str.lower()\n"
   ]
  },
  {
   "cell_type": "code",
   "execution_count": 10,
   "id": "623130e4",
   "metadata": {},
   "outputs": [
    {
     "name": "stderr",
     "output_type": "stream",
     "text": [
      "C:\\Users\\my\\AppData\\Local\\Temp\\ipykernel_15356\\394350391.py:2: FutureWarning: The default value of regex will change from True to False in a future version.\n",
      "  df1['info']= df1['info'].str.replace('warning!\\nat least some content in this article is derived from information featured in hogwarts legacy. spoilers will be present within the article.', '')\n"
     ]
    }
   ],
   "source": [
    "df1['info']= df1['info'].str.replace('biographical information', '') \n",
    "df1['info']= df1['info'].str.replace('warning!\\nat least some content in this article is derived from information featured in hogwarts legacy. spoilers will be present within the article.', '') \n"
   ]
  },
  {
   "cell_type": "code",
   "execution_count": 18,
   "id": "848c9b7f",
   "metadata": {},
   "outputs": [],
   "source": [
    "#df2= df1.copy()\n",
    "#def remove_lines_with_decimal(row):\n",
    "    #decimal_pattern = r'\\b\\d+(\\.\\d+)?\\b'\n",
    "    #column_text = row\n",
    "    #lines = column_text.split('\\n')\n",
    "    #filtered_lines = [line for line in lines if not re.search(decimal_pattern, line)]\n",
    "    #return '\\n'.join(filtered_lines)\n",
    "\n",
    "# Apply the function to the specific column\n",
    "#df2['info']= df2['info'].str.replace(r'\\b\\d+(\\.\\d+)?\\b', '')"
   ]
  },
  {
   "cell_type": "code",
   "execution_count": 21,
   "id": "04e5855e",
   "metadata": {},
   "outputs": [],
   "source": [
    "df1 = df1[~df1['character'].str.contains('template')]"
   ]
  },
  {
   "cell_type": "code",
   "execution_count": 23,
   "id": "dd4cd24e",
   "metadata": {},
   "outputs": [],
   "source": [
    "df2.to_csv(r'C:\\Users\\my\\Desktop\\ChatsOfWesteros\\ProcessedDataForChatBot.csv', index=False)"
   ]
  },
  {
   "cell_type": "code",
   "execution_count": null,
   "id": "cbd70cd2",
   "metadata": {},
   "outputs": [],
   "source": []
  }
 ],
 "metadata": {
  "kernelspec": {
   "display_name": "Python 3 (ipykernel)",
   "language": "python",
   "name": "python3"
  },
  "language_info": {
   "codemirror_mode": {
    "name": "ipython",
    "version": 3
   },
   "file_extension": ".py",
   "mimetype": "text/x-python",
   "name": "python",
   "nbconvert_exporter": "python",
   "pygments_lexer": "ipython3",
   "version": "3.9.12"
  }
 },
 "nbformat": 4,
 "nbformat_minor": 5
}
